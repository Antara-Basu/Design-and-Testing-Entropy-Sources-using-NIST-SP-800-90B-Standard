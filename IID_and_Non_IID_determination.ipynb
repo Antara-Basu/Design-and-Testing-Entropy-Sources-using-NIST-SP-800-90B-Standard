{
  "nbformat": 4,
  "nbformat_minor": 0,
  "metadata": {
    "colab": {
      "provenance": [],
      "include_colab_link": true
    },
    "kernelspec": {
      "display_name": "Python 3",
      "name": "python3"
    },
    "language_info": {
      "name": "python"
    }
  },
  "cells": [
    {
      "cell_type": "markdown",
      "metadata": {
        "id": "view-in-github",
        "colab_type": "text"
      },
      "source": [
        "<a href=\"https://colab.research.google.com/github/Antara-Basu/Design-and-Testing-Entropy-Sources-using-NIST-SP-800-90B-Standard/blob/main/IID_and_Non_IID_determination.ipynb\" target=\"_parent\"><img src=\"https://colab.research.google.com/assets/colab-badge.svg\" alt=\"Open In Colab\"/></a>"
      ]
    },
    {
      "cell_type": "markdown",
      "metadata": {
        "id": "EehAXzAIDEAo"
      },
      "source": [
        "5. Testing the IID Assumption"
      ]
    },
    {
      "cell_type": "markdown",
      "metadata": {
        "id": "teo_fp1BDJSH"
      },
      "source": [
        "The noise source samples are said to be independent and identically distributed (IID) if each of the samples has the same probability distribution as all of the other samples and they are all independent with respect to each other. The IID assumption greatly simplifies the problem of estimating entropy. If the IID assumption is not satisfied, meaning the samples are either not identically distributed or not independent (or both), the estimation of entropy is difficult and requires different methods.\n",
        "This section will include statistical tests to look for evidence that the samples are not IID and if no evidence is found against the IID assumption, we will use the IID assumption is true."
      ]
    },
    {
      "cell_type": "markdown",
      "metadata": {
        "id": "LhSvN4u1diJd"
      },
      "source": [
        "While both binary and non-binary data can be applied onto the tests, certain tests continued to be affected by the number of distinct sample values, denoted k (the size of the set A) that influenced the distribution of the test statistics and thus the type I error. For these tests, one of the following transformations is considered for the input data when the input is binary (i.e., k = 2)."
      ]
    },
    {
      "cell_type": "markdown",
      "metadata": {
        "id": "w8X_Rl0QTjyq"
      },
      "source": [
        "CONVERSION 1"
      ]
    },
    {
      "cell_type": "code",
      "metadata": {
        "id": "d_ejbXDLcBIh",
        "colab": {
          "base_uri": "https://localhost:8080/"
        },
        "outputId": "2399bd7f-db7b-43fc-e8d9-5570d1b39ec5"
      },
      "source": [
        "def bin_count(lst):\n",
        "  \"\"\"\n",
        "  This function partitions the input binary sequence into 8-bit non-overblocking blocks and counts the number of ones in each block.\n",
        "  @input: s:string of binary integers.\n",
        "  @output:result :TEST STATISTIC.\n",
        "  For eg:\n",
        "  input = a = [1,0,1,1,0,1,1,1,0,0,1,1,1,0,1,1,0,0,1,1]\n",
        "  lst of 8-blocks = [[1,0,1,1,0,1,1,1],[0,0,1,1,1,0,1,1],[0,0,1,1,0,0,0,0]]\n",
        "  output(no: of ones in each 8-bit non-overblocking blocks) = [6,5,2]\n",
        "\n",
        "  \"\"\"\n",
        "\n",
        "  groups = [lst[i:i + 8] for i in range(0, len(lst), 8)]\n",
        "  result = []\n",
        "  for j in range(len(groups)):\n",
        "      res = groups[j].count(1)\n",
        "      result.append(res)\n",
        "  return result\n",
        "\n",
        "\n",
        "lst = [1,0,0,0,1,1,1,0,1,1,0,1,1,0,1,1,0,0,1,1]\n",
        "no_of_ones = bin_count(lst)\n",
        "print(no_of_ones)"
      ],
      "execution_count": null,
      "outputs": [
        {
          "output_type": "stream",
          "name": "stdout",
          "text": [
            "[4, 6, 2]\n"
          ]
        }
      ]
    },
    {
      "cell_type": "code",
      "metadata": {
        "colab": {
          "base_uri": "https://localhost:8080/"
        },
        "id": "DIdv2MKk2WYa",
        "outputId": "5dc9c6c8-cfe6-4240-d699-de39e92674db"
      },
      "source": [
        "l1 = [1,0,0,0,1,1,1,0,1,1,0,1,1,0,1,1,0,0,1,1,1,1,1,1,0,0,0,1,0,1,0,0,1,1,0,0,0,0,0,1,1,1,1,0,1,0,0,1,0,0,0,1,1,1,1,1,1,1,1,1,1,1,0,0,1,0,1,0,1,1,1,1,0,0,1,0,1,0,1,0,0,0,0,1,1,1,1,1,1,1,0,0,0,0,0,0,0,0,0,1,1,0,0,1,1,1,0,1,0,1,1,0,0,0,1,1,]\n",
        "no_of_ones1 = bin_count(l1)\n",
        "print(no_of_ones1)"
      ],
      "execution_count": null,
      "outputs": [
        {
          "output_type": "stream",
          "name": "stdout",
          "text": [
            "[4, 6, 6, 2, 3, 5, 5, 6, 6, 3, 5, 2, 3, 5, 2]\n"
          ]
        }
      ]
    },
    {
      "cell_type": "code",
      "metadata": {
        "colab": {
          "base_uri": "https://localhost:8080/"
        },
        "id": "rPZ2Q2E32kTw",
        "outputId": "56a61a71-d641-491f-ed1b-f8e78074bb3b"
      },
      "source": [
        "cubes = [x**3 for x in range(5)]\n",
        "print(cubes)"
      ],
      "execution_count": null,
      "outputs": [
        {
          "output_type": "stream",
          "name": "stdout",
          "text": [
            "[0, 1, 8, 27, 64]\n"
          ]
        }
      ]
    },
    {
      "cell_type": "markdown",
      "metadata": {
        "id": "67TqOCz0Tm-A"
      },
      "source": [
        "CONVERSION 2"
      ]
    },
    {
      "cell_type": "code",
      "metadata": {
        "id": "JnmY7xaZTiQA",
        "colab": {
          "base_uri": "https://localhost:8080/"
        },
        "outputId": "ffef4c38-5958-40eb-8561-7f9b79d8c00c"
      },
      "source": [
        "def calculate_decimal_value(bin):\n",
        "\n",
        "  \"\"\"\n",
        "  This function partitions the input sequence into 8-bit non-overblocking blocks and calculates the integer value of each block.\n",
        "  @input: s:string of binary integers.\n",
        "  @output:result :TEST STATISTIC.\n",
        "  For eg:\n",
        "  input = s = [1,0,1,1,0,1,1,1,0,0,1,1,1,0,1,1,0,0,1,1]\n",
        "  lst of 8-blocks = [[1,0,1,1,0,1,1,1],[0,0,1,1,1,0,1,1],[0,0,1,1,0,0,0,0]]\n",
        "  now integer value of each 8-bit block will be calculated and will be appended into a list.\n",
        "  output lst = [183, 59, 48]\n",
        "\n",
        "  \"\"\"\n",
        "\n",
        "  bin = bin[::-1]\n",
        "  decimal = 0\n",
        "  for power in range(len(bin)):\n",
        "      decimal += bin[power] * (2**power)\n",
        "  return decimal\n",
        "\n",
        "def int_con(bin):\n",
        "  grps = [bin[i:i+8] for i in range(0, len(bin), 8)]\n",
        "  result = []\n",
        "  ans = 0\n",
        "  for grp in grps:\n",
        "      if(len(grp) == 8):\n",
        "          ans = calculate_decimal_value(grp)\n",
        "      else:\n",
        "          while(len(grp) < 8):\n",
        "              grp.append(0)\n",
        "          ans = calculate_decimal_value(grp)\n",
        "      result.append(ans)\n",
        "  return result\n",
        "\n",
        "\n",
        "bin = [1,0,0,0,1,1,1,0,1,1,0,1,1,0,1,1,0,0,1,1]\n",
        "int_convert = int_con(bin)\n",
        "print(int_convert)\n"
      ],
      "execution_count": null,
      "outputs": [
        {
          "output_type": "stream",
          "name": "stdout",
          "text": [
            "[142, 219, 48]\n"
          ]
        }
      ]
    },
    {
      "cell_type": "code",
      "metadata": {
        "colab": {
          "base_uri": "https://localhost:8080/"
        },
        "id": "pQt7nu9c2qtG",
        "outputId": "84c3d7b2-b131-4796-ebe1-7b9b42e5aca0"
      },
      "source": [
        "lst1 = [1,0,0,0,1,1,1,0,1,1,0,1,1,0,1,1,0,0,1,1,1,1,1,1,0,0,0,1,0,1,0,0,1,1,0,0,0,0,0,1,1,1,1,0,1,0,0,1,0,0,0,1,1,1,1,1,1,1,1,1,1,1,0,0,1,0,1,0,1,1,1,1,0,0,1,0,1,0,1,0,0,0,0,1,1,1,1,1,1,1,0,0,0,0,0,0,0,0,0,1,1,0,0,1,1,1,0,1,0,1,1,0,0,0,1,1,]\n",
        "int_convert = int_con(lst1)\n",
        "print(int_convert)\n"
      ],
      "execution_count": null,
      "outputs": [
        {
          "output_type": "stream",
          "name": "stdout",
          "text": [
            "[142, 219, 63, 20, 193, 233, 31, 252, 175, 42, 31, 192, 25, 214, 48]\n"
          ]
        }
      ]
    },
    {
      "cell_type": "code",
      "metadata": {
        "colab": {
          "base_uri": "https://localhost:8080/"
        },
        "id": "oMa12PLfLx4y",
        "outputId": "65e830f4-4ad4-4d01-f0a7-c53e0d78508f"
      },
      "source": [
        "print(2**3)\n"
      ],
      "execution_count": null,
      "outputs": [
        {
          "output_type": "stream",
          "name": "stdout",
          "text": [
            "8\n"
          ]
        }
      ]
    },
    {
      "cell_type": "code",
      "metadata": {
        "id": "FtiApm2bD1ra"
      },
      "source": [
        "l1 = [1,0,1,1,0,1,1,1,0,0,1,1,1,0,1,1,0,0,1,1]\n",
        "int_convert = int_con(l1)\n",
        "print(int_convert)\n"
      ],
      "execution_count": null,
      "outputs": []
    },
    {
      "cell_type": "markdown",
      "metadata": {
        "id": "5fUlfBYiD5sW"
      },
      "source": [
        "5.1 Permutation Testing"
      ]
    },
    {
      "cell_type": "markdown",
      "metadata": {
        "id": "bo06Vq52D6JE"
      },
      "source": [
        "5.1.1 Excursion Test Statistic"
      ]
    },
    {
      "cell_type": "code",
      "metadata": {
        "colab": {
          "base_uri": "https://localhost:8080/"
        },
        "id": "lo53DCxdEH3z",
        "outputId": "2710916a-aa26-428e-86ba-381ad26b624c"
      },
      "source": [
        "def excursion_test_statistic(l):\n",
        "\n",
        "  \"\"\"\n",
        "  This function measures the deviation of samples values from its average values at each point of dataset.\n",
        "  @input: s:string of integers.\n",
        "  @output: :ans TEST STATISTIC.\n",
        "  for eg:\n",
        "  input = l = [1,0,1,1], add = avg = ans = 0\n",
        "  Avg = 0.75, add = 0 + l[0] = 1,  ans = max(0, abs(1-1*0.75) = max(0,0.25) = 0.25.\n",
        "  Likewise till the end of lst add and ans will be calculated, and atlast value of ans will be our test statistic.\n",
        "  output = 0.5\n",
        "\n",
        "  \"\"\"\n",
        "\n",
        "  n = len(l)\n",
        "  ans = 0\n",
        "  add = 0\n",
        "  avg = sum(l)/len(l)\n",
        "  for i in range(n):\n",
        "      add += l[i]\n",
        "      ans = max(ans, abs(add - (i+1)*avg))\n",
        "  return ans, avg\n",
        "\n",
        "l = [1,1,0,1,1,0]\n",
        "excursion_teststat = excursion_test_statistic(l)\n",
        "print(excursion_teststat)"
      ],
      "execution_count": null,
      "outputs": [
        {
          "output_type": "stream",
          "name": "stdout",
          "text": [
            "(0.666666666666667, 0.6666666666666666)\n"
          ]
        }
      ]
    },
    {
      "cell_type": "code",
      "metadata": {
        "colab": {
          "base_uri": "https://localhost:8080/"
        },
        "id": "cgBHD8yXPD9D",
        "outputId": "067d820a-62b0-497d-9489-9d9962201b1a"
      },
      "source": [
        "l = [1,0,1,0,1,1,1,0]\n",
        "excursion_teststat =  excursion_test_statistic(l)\n",
        "print(excursion_teststat)\n"
      ],
      "execution_count": null,
      "outputs": [
        {
          "output_type": "stream",
          "name": "stdout",
          "text": [
            "(0.625, 0.625)\n"
          ]
        }
      ]
    },
    {
      "cell_type": "code",
      "metadata": {
        "colab": {
          "base_uri": "https://localhost:8080/"
        },
        "id": "xU8nVaEaPopD",
        "outputId": "aab7fe5f-1c3a-4980-f48c-70d3477b40d2"
      },
      "source": [
        "l = [0,0,1,0,1,1,0]\n",
        "excursion_teststat =  excursion_test_statistic(l)\n",
        "print(excursion_teststat)"
      ],
      "execution_count": null,
      "outputs": [
        {
          "output_type": "stream",
          "name": "stdout",
          "text": [
            "(0.8571428571428571, 0.42857142857142855)\n"
          ]
        }
      ]
    },
    {
      "cell_type": "code",
      "metadata": {
        "colab": {
          "base_uri": "https://localhost:8080/"
        },
        "id": "4oFqWqHh96m-",
        "outputId": "5018cc9f-4f70-4c43-bb8e-103953ae200f"
      },
      "source": [
        "lst2 = [1,0,0,0,1,1,1,0,1,1,0,1,1,0,1,0,0,1,1,1,1,1,1,0,0,0,1,0,1,0,0,1,1,0,0,0,0,0,1,1,1,1,0,1,0,0,1,0,0,0,1,1,1,1,1,1,1,1,0,0,0,1,1,1,0,1,0,1,0,1,0,0,1,1,1,1,1,0,0,0,0,1,1,0,0,0,0,0,0,1,1,1,1,1,0,1,0,0,11]\n",
        "excursion_teststat =  excursion_test_statistic(lst2)\n",
        "print(excursion_teststat)"
      ],
      "execution_count": null,
      "outputs": [
        {
          "output_type": "stream",
          "name": "stdout",
          "text": [
            "(10.636363636363633, 0.6363636363636364)\n"
          ]
        }
      ]
    },
    {
      "cell_type": "code",
      "metadata": {
        "colab": {
          "base_uri": "https://localhost:8080/"
        },
        "id": "VNXVtQaa0I0b",
        "outputId": "3b470eb9-141b-4a03-adee-f77a633bc289"
      },
      "source": [
        "s = (2,15,4,10,9)\n",
        "test_stat = excursion_test_statistic(s)\n",
        "print(test_stat)"
      ],
      "execution_count": null,
      "outputs": [
        {
          "output_type": "stream",
          "name": "stdout",
          "text": [
            "(6.0, 8.0)\n"
          ]
        }
      ]
    },
    {
      "cell_type": "markdown",
      "metadata": {
        "id": "i6pTrUXddoYR"
      },
      "source": [
        "5.1.2 Number of Directional Runs"
      ]
    },
    {
      "cell_type": "code",
      "metadata": {
        "colab": {
          "base_uri": "https://localhost:8080/"
        },
        "id": "ySxhEj3Wz3cR",
        "outputId": "e7f5dcb2-c0dc-4a38-ecae-fa7ca6744122"
      },
      "source": [
        "def no_of_directional_runs(var):\n",
        "\n",
        "  \"\"\"\n",
        "  This function  determines the no: of runs constructed using the relations between consecutive samples of string s.\n",
        "  @input: s:string of integers.\n",
        "  @output: s_dash and runs: Constructs a new sequence of 1s and -1s and determines its no: of runs.\n",
        "  for eg: l = [1,1,1,0,0,1,1,0,0,1,0,1,1,1,0,0,1,1,1,1,0,0,1,1]\n",
        "  output of 1st functn (bin_count)= a = [5,4,6]\n",
        "  n = 3, a_dash = []\n",
        "  a[o]>a[1] , so a_dash = [-1] then a[1]<a[2] , so a_dash = [-1,1]. Likewise a_dash lst will be created, a_dash = [-1,1]\n",
        "  cur = a_dash[0] = -1. ans = 1.\n",
        "  for -1 in a_dash if -1!=-1 which is false, hence increase x.\n",
        "  Next 1!=-1 then cur = 1 and ans = 2 .output = ans = 2\n",
        "\n",
        "  \"\"\"\n",
        "\n",
        "  n = len(var)\n",
        "  var_dash = []\n",
        "  for i in range(n-1):\n",
        "    if(var[i] > var[i+1]):\n",
        "          var_dash.append(-1)\n",
        "    else:\n",
        "          var_dash.append(1)\n",
        "  print(var_dash)\n",
        "\n",
        "  cur = var_dash[0]\n",
        "  ans = 1\n",
        "  for x in var_dash:\n",
        "      if(x!=cur):\n",
        "          cur = x\n",
        "          ans += 1\n",
        "  return ans\n",
        "\n",
        "lst = [1,0,0,0,1,1,1,0,1,1,0,1,1,0,1,1,0,0,1,1,1,1,1,1,0,0,0,1,0,1,0,0,1,1,0,0,0,0,0,1,1,1,1,0,1,0,0,1,0,0,0,1,1,1,1,1,1,1,1,0,0,0,1,1,1,0,1,0,1,0,1,0,0,1,1,1,1,1,0,0,0,0,1,1,0,0,0,0,0,0,1,1,1,1,1,0,1,0,0,1]\n",
        "var = bin_count(lst)\n",
        "print(var)\n",
        "dir_runs = no_of_directional_runs(var)\n",
        "print(dir_runs)\n",
        "\n",
        "\n"
      ],
      "execution_count": null,
      "outputs": [
        {
          "output_type": "stream",
          "name": "stdout",
          "text": [
            "[4, 6, 6, 2, 3, 5, 5, 5, 4, 5, 2, 5, 2]\n",
            "[1, 1, -1, 1, 1, 1, 1, -1, 1, -1, 1, -1]\n",
            "8\n"
          ]
        }
      ]
    },
    {
      "cell_type": "code",
      "metadata": {
        "colab": {
          "base_uri": "https://localhost:8080/"
        },
        "id": "_rmsOWt14eJ3",
        "outputId": "2eacacb2-d949-45f7-e648-c77acc8f5ea3"
      },
      "source": [
        "lst3 = [1,0,0,0,1,1,1,0,1,1,0,1,1,0,1,1,0,0,1,1,1,1,1,1,0,0,0,1,0,1,0,0,1,1,0,0,0,0,0,1,1,1,1,0,1,0,0,1,0,0,0,1,1,1,1,1,1,1,1,0,0,0,1,1,1,0,1,0,1,0,1,0,0,1,1,1,1,1,0,0,0,0,1,1,0,0,0,0,0,0,1,1,1,1,1,0,1,0,0,1]\n",
        "print(len(lst3))"
      ],
      "execution_count": null,
      "outputs": [
        {
          "output_type": "stream",
          "name": "stdout",
          "text": [
            "100\n"
          ]
        }
      ]
    },
    {
      "cell_type": "code",
      "metadata": {
        "colab": {
          "base_uri": "https://localhost:8080/"
        },
        "id": "ilVn5PV74T0A",
        "outputId": "0ebd1521-5f8b-48cb-bc85-071b9efb1f04"
      },
      "source": [
        "lst4 = [1,1,1,0,1,0,1,0,1,0,0,1,1,1,1,1,0,0,0,0,1,1,0,0,0,0,0,0,1,1,1,1,1,0,1,0,0,1]\n",
        "no_of_ones = bin_count(lst4)\n",
        "print(no_of_ones)\n",
        "dir_runs = no_of_directional_runs(no_of_ones)\n",
        "print(dir_runs)\n",
        "\n"
      ],
      "execution_count": null,
      "outputs": [
        {
          "output_type": "stream",
          "name": "stdout",
          "text": [
            "[5, 6, 2, 4, 3]\n",
            "[1, -1, 1, -1]\n",
            "4\n"
          ]
        }
      ]
    },
    {
      "cell_type": "code",
      "metadata": {
        "colab": {
          "base_uri": "https://localhost:8080/"
        },
        "id": "-bjThAHc_ED0",
        "outputId": "6801e798-b7cc-4914-e5af-95df2050e302"
      },
      "source": [
        "lst5 = [1,0,0,0,1,1,1,0,1,1,0,1,1,0,1,1,0,0,1,1]\n",
        "no_of_ones = bin_count(lst5)\n",
        "print(no_of_ones)\n",
        "dir_runs = no_of_directional_runs(no_of_ones)\n",
        "print(dir_runs)\n"
      ],
      "execution_count": null,
      "outputs": [
        {
          "output_type": "stream",
          "name": "stdout",
          "text": [
            "[4, 6, 2]\n",
            "[1, -1]\n",
            "2\n"
          ]
        }
      ]
    },
    {
      "cell_type": "code",
      "metadata": {
        "id": "_v21O-e_z0N0",
        "colab": {
          "base_uri": "https://localhost:8080/"
        },
        "outputId": "a4ba9215-1267-4360-e48a-c3f2cf6c360a"
      },
      "source": [
        "s = [2,2,2,5,7,7,9,3,1,4,4]\n",
        "dir_runs = no_of_directional_runs(s)\n",
        "print(dir_runs)\n"
      ],
      "execution_count": null,
      "outputs": [
        {
          "output_type": "stream",
          "name": "stdout",
          "text": [
            "[1, 1, 1, 1, 1, 1, -1, -1, 1, 1]\n",
            "3\n"
          ]
        }
      ]
    },
    {
      "cell_type": "markdown",
      "metadata": {
        "id": "gFHkAwt_duQ3"
      },
      "source": [
        "5.1.3 Length of Directional Runs"
      ]
    },
    {
      "cell_type": "code",
      "metadata": {
        "colab": {
          "base_uri": "https://localhost:8080/"
        },
        "id": "KDIhYLuV0Z1c",
        "outputId": "6b08d6de-fa01-4423-c374-8b54e7865045"
      },
      "source": [
        "def length_of_directional_runs(var):\n",
        "\n",
        "  \"\"\"\n",
        "  This function  determines the length of the longest run constructed using the relations between consecutive samples of string s.\n",
        "  @input: s:string of integers.\n",
        "  @output: s_dash and r: Constructs a new sequence of 1s and -1s and determines the length of the longest of those runs.\n",
        "  for eg: l = [1,1,1,0,0,1,1,0,0,1,0,1,1,1,0,0,1,1,1,1,0,0,1,1,1,1,1,1,0,0,1,1]\n",
        "  output of 1st functn (bin_count) a = [5,4,6,6]\n",
        "  n = 4, a_dash = []\n",
        "  a[o]>a[1] , so a_dash = [-1] then a[1]<a[2] ,.... so a_dash = [-1,1,1]\n",
        "  t = 3 if t==1 return 1 , cur_count = max_count = 1\n",
        "  a_dash[1]!=a_dash[0] i.e, 1!=-1, which is true, so cur_count = 1, max_count = 1\n",
        "  a_dash[2]!=a_dash[1] i.e, 1!=1, which is false, so cur = 2 ,output = max_count = 2, which is the test_statistic.\n",
        "\n",
        "  \"\"\"\n",
        "\n",
        "  n = len(var)\n",
        "  var_dash = []\n",
        "  for i in range(n-1):\n",
        "    if(var[i] > var[i+1]):\n",
        "          var_dash.append(-1)\n",
        "    else:\n",
        "          var_dash.append(1)\n",
        "  print(var_dash)\n",
        "\n",
        "  t = len(var_dash)\n",
        "  if(t == 1):\n",
        "     return 1\n",
        "  cur_count = 1\n",
        "  max_count = 1\n",
        "  for i in range(1,t):\n",
        "      max_count = max(max_count, cur_count)\n",
        "      if(var_dash[i]!=var_dash[i-1]):\n",
        "         cur_count = 1\n",
        "      else:\n",
        "         cur_count += 1\n",
        "  max_count = max(max_count, cur_count)\n",
        "  return max_count\n",
        "\n",
        "h = [1,1,1,0,0,1,1,0,0,1,0,1,0,1,1,1]\n",
        "var = bin_count(h)\n",
        "print(var)\n",
        "len_runs = length_of_directional_runs(var)\n",
        "print(len_runs)\n"
      ],
      "execution_count": null,
      "outputs": [
        {
          "output_type": "stream",
          "name": "stdout",
          "text": [
            "[5, 5]\n",
            "[1]\n",
            "1\n"
          ]
        }
      ]
    },
    {
      "cell_type": "code",
      "metadata": {
        "colab": {
          "base_uri": "https://localhost:8080/"
        },
        "id": "kW9ukW1SO2LW",
        "outputId": "f776cce7-352d-43f8-80e4-98b92a0d837e"
      },
      "source": [
        "h = [1,0,0,0,1,1,1,0,1,1,0,1,1,0,1,1,0,0,1,1,1,1,1,1,0,0,0,1,0,1,0,0,1,1,0,0,0,0,0,1,1,1,1,0,1,0,0,1,0,0,0,1,1,1,1,1,1,1,1,0,0,0,1,1,1,0,1,0,1,0,1,0,0,1,1,1,1,1,0,0,0,0,1,1,0,0,0,0,0,0,1,1,1,1,1,0,1,0,0,1]\n",
        "var1 = bin_count(h)\n",
        "print(var1)\n",
        "len_runs = length_of_directional_runs(var1)\n",
        "print(len_runs)"
      ],
      "execution_count": null,
      "outputs": [
        {
          "output_type": "stream",
          "name": "stdout",
          "text": [
            "[4, 6, 6, 2, 3, 5, 5, 5, 4, 5, 2, 5, 2]\n",
            "[1, 1, -1, 1, 1, 1, 1, -1, 1, -1, 1, -1]\n",
            "4\n"
          ]
        }
      ]
    },
    {
      "cell_type": "code",
      "metadata": {
        "colab": {
          "base_uri": "https://localhost:8080/"
        },
        "id": "f9wKrHC6bBE8",
        "outputId": "2cde90e0-2746-4749-9975-07d91db325a0"
      },
      "source": [
        "s = [2,2,2,5,7,7,9,3,1,4,4]\n",
        "r = length_of_directional_runs(s)\n",
        "print(r)\n"
      ],
      "execution_count": null,
      "outputs": [
        {
          "output_type": "stream",
          "name": "stdout",
          "text": [
            "[1, 1, 1, 1, 1, 1, -1, -1, 1, 1]\n",
            "6\n"
          ]
        }
      ]
    },
    {
      "cell_type": "markdown",
      "metadata": {
        "id": "VO5aPLxzdyjo"
      },
      "source": [
        "5.1.4 Number of Increases and Decreases"
      ]
    },
    {
      "cell_type": "code",
      "metadata": {
        "colab": {
          "base_uri": "https://localhost:8080/"
        },
        "id": "HxtkXvtgzjcQ",
        "outputId": "53f45cea-4cbe-422e-9dd8-8c42f67ee344"
      },
      "source": [
        "def no_of_increases_and_decreases(var):\n",
        "\n",
        "  \"\"\"\n",
        "  This function  determines the maximum number of increases or decreases between consecutive sample values of a given string s.\n",
        "  @input: s:string of integers.\n",
        "  @output: s_dash and d: Constructs a new sequence consisting of 1s and -1s and determines the max of +1s and -1s of new sequence.\n",
        "  for eg: l = [1,1,1,0,0,1,1,0,0,1,0,1,1,1,0,0,1,1,1,0,0,0,1,0,1,1,1,0,0,1,1,0]\n",
        "  output of 1st functn (bin_count) a = [5, 4, 4, 5]\n",
        "  n = 4, a_dash = []\n",
        "  a[o]>a[1] , so a_dash = [-1] then a[1]=a[2] ,......\n",
        "  Likewise a_dash lst will be created. a_dash = [-1,1,1]\n",
        "  count1 = 0 = count_minus_one,  if -1 == 1  which is false so count_minus_one = 1\n",
        "  if 1 == 1 then count1 == 1 , if 1 == 1 which is true so count1 = 2\n",
        "  output : count1 = 2, count_minus_one = 1,  max(count1, count-minus_one) = 2.\n",
        "\n",
        "  \"\"\"\n",
        "  n = len(var)\n",
        "  var_dash = []\n",
        "  for i  in range(n-1):\n",
        "      if(var[i] > var[i+1]):\n",
        "          var_dash.append(-1)\n",
        "      else:\n",
        "          var_dash.append(1)\n",
        "  print(var_dash)\n",
        "\n",
        "  count1 = 0\n",
        "  count_minus_one = 0\n",
        "  for x in var_dash:\n",
        "    if x == 1:\n",
        "      count1+=1\n",
        "    elif x == -1:\n",
        "      count_minus_one+=1\n",
        "  return count1, count_minus_one\n",
        "  return max(count1, count-minus_one)\n",
        "\n",
        "bin = [1,1,0,1,0,0,1,1,0,0,1,1,1,0,1,0,1,1,1,0,0,1,0,1,0]\n",
        "var = bin_count(bin)\n",
        "print(var)\n",
        "count1, count_minus_one = no_of_increases_and_decreases(var)\n",
        "print(count1)\n",
        "print(count_minus_one)\n",
        "d = max(count1, count_minus_one)\n",
        "print(d)"
      ],
      "execution_count": null,
      "outputs": [
        {
          "output_type": "stream",
          "name": "stdout",
          "text": [
            "[5, 4, 5, 0]\n",
            "[-1, 1, -1]\n",
            "1\n",
            "2\n",
            "2\n"
          ]
        }
      ]
    },
    {
      "cell_type": "code",
      "metadata": {
        "colab": {
          "base_uri": "https://localhost:8080/"
        },
        "id": "v9FdKBXG_8Iy",
        "outputId": "cf7b6444-c5e7-4d1d-e429-e5e267f1cc9d"
      },
      "source": [
        "l = [1,1,1,0,0,1,1,0,0,1,0,1,1,1,0,0,1,1,1,0,0,0,1,0,1,1,1,0,0,1,1,0]\n",
        "var = bin_count(l)\n",
        "print(var)\n",
        "count1, count_minus_one = no_of_increases_and_decreases(var)\n",
        "print(count1)\n",
        "print(count_minus_one)\n",
        "d = max(count1, count_minus_one)\n",
        "print(d)"
      ],
      "execution_count": null,
      "outputs": [
        {
          "output_type": "stream",
          "name": "stdout",
          "text": [
            "[5, 4, 4, 5]\n",
            "[-1, 1, 1]\n",
            "2\n",
            "1\n",
            "2\n"
          ]
        }
      ]
    },
    {
      "cell_type": "code",
      "metadata": {
        "colab": {
          "base_uri": "https://localhost:8080/"
        },
        "id": "kcCSGHRKkzS2",
        "outputId": "1c6414cd-8683-46c8-ab24-14ee7a6aff81"
      },
      "source": [
        "s = [2,2,2,5,7,7,9,3,1,4,4]\n",
        "count1, count_minus_one = no_of_increases_and_decreases(s)\n",
        "print(count1)\n",
        "print(count_minus_one)\n",
        "d = max(count1, count_minus_one)\n",
        "print(d)\n"
      ],
      "execution_count": null,
      "outputs": [
        {
          "output_type": "stream",
          "name": "stdout",
          "text": [
            "[1, 1, 1, 1, 1, 1, -1, -1, 1, 1]\n",
            "8\n",
            "2\n",
            "8\n"
          ]
        }
      ]
    },
    {
      "cell_type": "code",
      "metadata": {
        "id": "zX7R5hjZGOcD",
        "colab": {
          "base_uri": "https://localhost:8080/"
        },
        "outputId": "9edfc5b1-61c7-4630-dd59-2c338a426151"
      },
      "source": [
        "import statistics\n",
        "s = [5,15,9,1,13,9,4]\n",
        "m = statistics.median(s)\n",
        "print(m)\n"
      ],
      "execution_count": null,
      "outputs": [
        {
          "output_type": "stream",
          "name": "stdout",
          "text": [
            "9\n"
          ]
        }
      ]
    },
    {
      "cell_type": "markdown",
      "metadata": {
        "id": "4ZfMjqltd3IL"
      },
      "source": [
        "5.1.5 Number of Runs Based on the Median"
      ]
    },
    {
      "cell_type": "code",
      "metadata": {
        "colab": {
          "base_uri": "https://localhost:8080/"
        },
        "id": "tu2zlNeZnm30",
        "outputId": "cd882710-8b38-417c-8ce0-b8cbbfd4b6e1"
      },
      "source": [
        "import statistics\n",
        "def no_of_runs_based_on_the_median(l):\n",
        "\n",
        "  \"\"\"\n",
        "  This function  determines the no: of runs that are constructed with respect to the median of the given string s.\n",
        "  @input: s:string of integers.\n",
        "  @output: m, s_dash and runs: Median of input string s, Constructs a new sequence of 1s and -1s and determines its number of runs.\n",
        "  For eg: input: l=[1,0,1,1,0,0,1]\n",
        "  m = 1, n = 7, l_dash = []\n",
        "  for 1 in l, if(1<1) which is false, l_dash = [1]\n",
        "  for 0 in l, if(0<1), which is true, l_dash = [-1]\n",
        "  ............\n",
        "  l_dash = [1, -1, 1, 1, -1, -1, 1]\n",
        "  cur = l_dash[0] = 1, runs = 1,\n",
        "  for 1 in l_dash, if(1!=1), which is false\n",
        "  for -1 in l_dash, if(-1!=1), which is true, cur = -1, runs = 2\n",
        "  likewise till the end of the lst, runs will be calculated..................\n",
        "  output = runs = 5\n",
        "\n",
        "  \"\"\"\n",
        "  m = statistics.median(l)\n",
        "  n = len(l)\n",
        "  l_dash = []\n",
        "  for x in l:\n",
        "      if(x < m):\n",
        "          l_dash.append(-1)\n",
        "      else:\n",
        "          l_dash.append(1)\n",
        "  print(l_dash)\n",
        "\n",
        "  cur = l_dash[0]\n",
        "  runs = 1\n",
        "  for x in l_dash:\n",
        "      if(x!=cur):\n",
        "          cur = x\n",
        "          runs += 1\n",
        "  return runs\n",
        "\n",
        "l = [1,1,0,1,0,0,1,1,0,0,1,1,1,0,1,0,1,1,1,0,0,1,0,1,0]\n",
        "m = statistics.median(l)\n",
        "print(m)\n",
        "c = no_of_runs_based_on_the_median(l)\n",
        "print(c)\n",
        "\n",
        "\n"
      ],
      "execution_count": null,
      "outputs": [
        {
          "output_type": "stream",
          "name": "stdout",
          "text": [
            "1\n",
            "[1, 1, -1, 1, -1, -1, 1, 1, -1, -1, 1, 1, 1, -1, 1, -1, 1, 1, 1, -1, -1, 1, -1, 1, -1]\n",
            "16\n"
          ]
        }
      ]
    },
    {
      "cell_type": "code",
      "metadata": {
        "colab": {
          "base_uri": "https://localhost:8080/"
        },
        "id": "ZlBSF8yfEZOL",
        "outputId": "f05defed-6eff-4749-a5b2-4d2de316a6f2"
      },
      "source": [
        "l=[1,0,1,1,0,0,1]\n",
        "m = statistics.median(l)\n",
        "print(m)\n",
        "c = no_of_runs_based_on_the_median(l)\n",
        "print(c)\n",
        "\n"
      ],
      "execution_count": null,
      "outputs": [
        {
          "output_type": "stream",
          "name": "stdout",
          "text": [
            "1\n",
            "[1, -1, 1, 1, -1, -1, 1]\n",
            "5\n"
          ]
        }
      ]
    },
    {
      "cell_type": "code",
      "metadata": {
        "colab": {
          "base_uri": "https://localhost:8080/"
        },
        "id": "tpdYcJYx3UNQ",
        "outputId": "f08e5c78-3e6f-409c-b55d-4106799ce5a1"
      },
      "source": [
        "s = [5,15,12,1,13,9,4]\n",
        "m = statistics.median(s)\n",
        "print(m)\n",
        "c = no_of_runs_based_on_the_median(l)\n",
        "print(c)\n"
      ],
      "execution_count": null,
      "outputs": [
        {
          "output_type": "stream",
          "name": "stdout",
          "text": [
            "9\n",
            "[1, -1, 1, 1, -1, -1, 1]\n",
            "5\n"
          ]
        }
      ]
    },
    {
      "cell_type": "markdown",
      "metadata": {
        "id": "lCGH9YaZd6kQ"
      },
      "source": [
        "5.1.6 Length of Runs Based on Median"
      ]
    },
    {
      "cell_type": "code",
      "metadata": {
        "id": "3rkG6LIdzruE",
        "colab": {
          "base_uri": "https://localhost:8080/"
        },
        "outputId": "e97e3148-d9bb-440d-f95b-0da91b9613a5"
      },
      "source": [
        "import statistics\n",
        "def length_of_runs_based_on_median(l):\n",
        "\n",
        "  \"\"\"\n",
        "  This function  determines the length of the longest run constructed with respect to the median of the given string s.\n",
        "  @input: s:string of integers.\n",
        "  @output: m, s_dash and max_count:Median of input string s, Constructs a new sequence of 1s and -1s and determines length of the longest run.\n",
        "  For eg: input: l=[1,0,1,1,0,0,1]\n",
        "  m = 1, n = 7, l_dash = []\n",
        "  for 1 in l, if(1<1) which is false, l_dash = [1]\n",
        "  for 0 in l, if(0<1), which is true, l_dash = [-1]\n",
        "  ............\n",
        "  l_dash = [1, -1, 1, 1, -1, -1, 1]\n",
        "  a = 7, if a == 1 return 1 , cur_count = max_count = 1\n",
        "  l_dash[1]!=l_dash[0] so cur_count = 1, max_count = 1\n",
        "  l_dash[2]!=l_dash[1] which is true so cur = 1 ,max_count = 1,\n",
        "  .............\n",
        "  output = max_count = 2, which is the test_statistic.\n",
        "\n",
        "  \"\"\"\n",
        "  m = statistics.median(l)\n",
        "  n = len(l)\n",
        "  l_dash = []\n",
        "  for x in l:\n",
        "      if(x < m):\n",
        "          l_dash.append(-1)\n",
        "      else:\n",
        "          l_dash.append(1)\n",
        "  print(l_dash)\n",
        "\n",
        "  a = len(l_dash)\n",
        "  if(a == 1):\n",
        "      return 1\n",
        "  cur_count = 1\n",
        "  max_count = 1\n",
        "  for i in range(1,a):\n",
        "      max_count = max(max_count, cur_count)\n",
        "      if(l_dash[i]!=l_dash[i-1]):\n",
        "         cur_count = 1\n",
        "      else:\n",
        "         cur_count += 1\n",
        "  max_count = max(max_count, cur_count)\n",
        "  return max_count\n",
        "\n",
        "l = [1,1,0,1,0,0,1,1,0,0,1,1,1,0,1,0,1,1,1,0,0,1,0,1,0]\n",
        "m = statistics.median(l)\n",
        "print(m)\n",
        "len_of_runs_based_on_median = length_of_runs_based_on_median(l)\n",
        "print(len_of_runs_based_on_median)\n"
      ],
      "execution_count": null,
      "outputs": [
        {
          "output_type": "stream",
          "name": "stdout",
          "text": [
            "1\n",
            "[1, 1, -1, 1, -1, -1, 1, 1, -1, -1, 1, 1, 1, -1, 1, -1, 1, 1, 1, -1, -1, 1, -1, 1, -1]\n",
            "3\n"
          ]
        }
      ]
    },
    {
      "cell_type": "code",
      "metadata": {
        "colab": {
          "base_uri": "https://localhost:8080/"
        },
        "id": "Cl-AkUPBHZsM",
        "outputId": "9ecfa539-fe65-439d-966f-30ec3683ff60"
      },
      "source": [
        "l=[1,0,1,1,0,0,1]\n",
        "m = statistics.median(l)\n",
        "print(m)\n",
        "len_of_runs_based_on_median = length_of_runs_based_on_median(l)\n",
        "print(len_of_runs_based_on_median)\n"
      ],
      "execution_count": null,
      "outputs": [
        {
          "output_type": "stream",
          "name": "stdout",
          "text": [
            "1\n",
            "[1, -1, 1, 1, -1, -1, 1]\n",
            "2\n"
          ]
        }
      ]
    },
    {
      "cell_type": "code",
      "metadata": {
        "colab": {
          "base_uri": "https://localhost:8080/"
        },
        "id": "z0QwlIMO1tpq",
        "outputId": "8b3d1aa6-872b-4bae-e8a1-6ee478c31b16"
      },
      "source": [
        "s = [5,15,12,1,13,9,4]\n",
        "m = statistics.median(s)\n",
        "print(m)\n",
        "y = length_of_runs_based_on_median(s)\n",
        "print(y)\n"
      ],
      "execution_count": null,
      "outputs": [
        {
          "output_type": "stream",
          "name": "stdout",
          "text": [
            "9\n",
            "[-1, 1, 1, -1, 1, 1, -1]\n",
            "2\n"
          ]
        }
      ]
    },
    {
      "cell_type": "markdown",
      "metadata": {
        "id": "vjiJSB2ueIjV"
      },
      "source": [
        "5.1.7 Average Collision Test Statistic"
      ]
    },
    {
      "cell_type": "code",
      "metadata": {
        "id": "WPDhlKXiNABR",
        "colab": {
          "base_uri": "https://localhost:8080/"
        },
        "outputId": "fd8fb845-5504-43ab-db63-1021492f8a2c"
      },
      "source": [
        "def average_collision_test_statistic(deci):\n",
        "\n",
        "  \"\"\"\n",
        "\n",
        "  This function  counts the no: of successive samples in a given string s, until a duplicate is found.\n",
        "  @input: s : string of integers.\n",
        "  @output: ans, avg : list of the no: of samples observed to find 2 occurrences of the same value in the input sequence, average of collision of test statistic\n",
        "  input = l = [1,1,1,0,0,0,1,0,1,1,1,0,0,0,0,1,1,1,1,0,0,0,1,0]\n",
        "  output of first function(int_con)= a = [226, 225, 226]\n",
        "  ans = [] = temp\n",
        "  for 226 in a, if 226 in temp, which is false, append 226 in temp, print it.\n",
        "  for 225 in a, if 225 in temp, which is false, append 225 in temp, print it.\n",
        "  for 226 in a, if 226 in temp, which is true, so ans = [3], empty temp and print it.\n",
        "  average will be calculated.\n",
        "  output = ans, avg = ([3], 3.0)\n",
        "\n",
        "  \"\"\"\n",
        "  ans = []\n",
        "  temp = []\n",
        "  for x in deci:\n",
        "      if x in temp:\n",
        "          ans.append(len(temp) + 1)\n",
        "          temp = []\n",
        "          print(temp)\n",
        "\n",
        "      else:\n",
        "          temp.append(x)\n",
        "          print(temp)\n",
        "  avg =  sum(ans)/len(ans)\n",
        "\n",
        "  return ans, avg\n",
        "\n",
        "\n",
        "l = [1,1,0,1,0,0,1,1,0,0,1,1,1,0,1,0,1,1,0,1,0,0,1,1,1,1,1,0,0,1,0,1,0,0,1,1,1,0,1,0,0,0,1,1,1,0,1,0]\n",
        "deci = int_con(l)\n",
        "print(deci)\n",
        "avg_col = average_collision_test_statistic(deci)\n",
        "print(avg_col)\n",
        "\n"
      ],
      "execution_count": null,
      "outputs": [
        {
          "output_type": "stream",
          "name": "stdout",
          "text": [
            "[211, 58, 211, 229, 58, 58]\n",
            "[211]\n",
            "[211, 58]\n",
            "[]\n",
            "[229]\n",
            "[229, 58]\n",
            "[]\n",
            "([3, 3], 3.0)\n"
          ]
        }
      ]
    },
    {
      "cell_type": "code",
      "metadata": {
        "colab": {
          "base_uri": "https://localhost:8080/"
        },
        "id": "98-wBC1Va97U",
        "outputId": "bcd932d2-45b4-48ca-cb9c-7e73c430266d"
      },
      "source": [
        "h = [1,1,1,0,0,1,0,1,1,1,1,1,1,1,1,1,1,1,1,0,0,1,0,1,1,1,1,0,0,1,0,1,1,1,1,1,1,1,1,1,1,1,1,0,0,1,0,1]\n",
        "deci = int_con(h)\n",
        "print(deci)\n",
        "avg_col = average_collision_test_statistic(deci)\n",
        "print(avg_col)"
      ],
      "execution_count": null,
      "outputs": [
        {
          "output_type": "stream",
          "name": "stdout",
          "text": [
            "[229, 255, 229, 229, 255, 229]\n",
            "[229]\n",
            "[229, 255]\n",
            "[]\n",
            "[229]\n",
            "[229, 255]\n",
            "[]\n",
            "([3, 3], 3.0)\n"
          ]
        }
      ]
    },
    {
      "cell_type": "code",
      "metadata": {
        "id": "nxASfNGx8Kop",
        "colab": {
          "base_uri": "https://localhost:8080/"
        },
        "outputId": "5fca3c25-3a38-4ff0-e7c1-d47d3fff4861"
      },
      "source": [
        "s = [2,1,1,2,0,1,0,1,1,2]\n",
        "avg_col = average_collision_test_statistic(s)\n",
        "print(avg_col)"
      ],
      "execution_count": null,
      "outputs": [
        {
          "output_type": "stream",
          "name": "stdout",
          "text": [
            "[2]\n",
            "[2, 1]\n",
            "[]\n",
            "[2]\n",
            "[2, 0]\n",
            "[2, 0, 1]\n",
            "[]\n",
            "[1]\n",
            "[]\n",
            "[2]\n",
            "([3, 4, 2], 3.0)\n"
          ]
        }
      ]
    },
    {
      "cell_type": "markdown",
      "metadata": {
        "id": "S-OzHwrueK6y"
      },
      "source": [
        "5.1.8 Maximum Collision Test Statistic"
      ]
    },
    {
      "cell_type": "code",
      "metadata": {
        "id": "NGaBLxqkaFcW",
        "colab": {
          "base_uri": "https://localhost:8080/"
        },
        "outputId": "311d3a4c-5a64-4dfd-88fc-4ea08fbc6898"
      },
      "source": [
        "def maximum_collision_test_statistic(h):\n",
        "\n",
        "  \"\"\"\n",
        "  This function  counts the maximum of no: of successive samples in a given string s, until a duplicate is found.\n",
        "  @input: s:string of integers.\n",
        "  @output: ans , max_col:  list of the no:of samples observed to find 2 occurrences of the same value in the input sequence ,maximum of the collision of test statistic\n",
        "  input = l = [1,1,1,0,0,0,1,0,1,1,1,0,0,0,0,1,1,1,1,0,0,0,1,0,1,1,0,0,0,0,1,1,1,1,0,0,0,0,1,1]\n",
        "  output of first function(int_con)= a = [226, 225, 226, 195, 195]\n",
        "  for 226 in a, if 226 in temp, which is false, append 226 in temp, print it.\n",
        "  .\n",
        "  .\n",
        "  for 195 in a, if 195 in temp, which is true, so ans = [3,2], empty temp and print it.\n",
        "  output = ans, max = ([3,2], 3)\n",
        "\n",
        "  \"\"\"\n",
        "\n",
        "  ans = []\n",
        "  temp = []\n",
        "  for x in h:\n",
        "    print(temp)\n",
        "    if x in temp:\n",
        "        ans.append(len(temp) + 1)\n",
        "        temp = []\n",
        "    else:\n",
        "        temp.append(x)\n",
        "  test_statistic1 = max(ans)\n",
        "  return ans, test_statistic1\n",
        "\n",
        "h = [1,0,1,0,0,0,1,1,0,1,1,1,1,0,0,1,1,0,1,0,0,0,1,1,1,0,1,0,0,0,1,1,1,0,1,0,0,0,1,1]\n",
        "deci = int_con(h)\n",
        "print(deci)\n",
        "max_col = maximum_collision_test_statistic(deci)\n",
        "print(max_col)\n"
      ],
      "execution_count": null,
      "outputs": [
        {
          "output_type": "stream",
          "name": "stdout",
          "text": [
            "[163, 121, 163, 163, 163]\n",
            "[]\n",
            "[163]\n",
            "[163, 121]\n",
            "[]\n",
            "[163]\n",
            "([3, 2], 3)\n"
          ]
        }
      ]
    },
    {
      "cell_type": "code",
      "metadata": {
        "colab": {
          "base_uri": "https://localhost:8080/"
        },
        "id": "3GHDW7oHwDCC",
        "outputId": "af3c251e-a0e0-4ed6-ff45-b0fc55b180e5"
      },
      "source": [
        "l = [1,1,1,0,0,0,1,0,1,1,1,0,0,0,0,1,1,1,1,0,0,0,1,0,1,1,0,0,0,0,1,1,1,1,0,0,0,0,1,1]\n",
        "deci = int_con(l)\n",
        "print(deci)\n",
        "max_col = maximum_collision_test_statistic(deci)\n",
        "print(max_col)\n"
      ],
      "execution_count": null,
      "outputs": [
        {
          "output_type": "stream",
          "name": "stdout",
          "text": [
            "[226, 225, 226, 195, 195]\n",
            "[]\n",
            "[226]\n",
            "[226, 225]\n",
            "[]\n",
            "[195]\n",
            "([3, 2], 3)\n"
          ]
        }
      ]
    },
    {
      "cell_type": "code",
      "metadata": {
        "colab": {
          "base_uri": "https://localhost:8080/"
        },
        "id": "MK1t9BirekbO",
        "outputId": "f824fddb-704b-45b9-a1af-e1a8f49e2c49"
      },
      "source": [
        "s = [2,1,1,2,0,1,0,1,1,2]\n",
        "max_col = maximum_collision_test_statistic(s)\n",
        "print(max_col)"
      ],
      "execution_count": null,
      "outputs": [
        {
          "output_type": "stream",
          "name": "stdout",
          "text": [
            "[]\n",
            "[2]\n",
            "[2, 1]\n",
            "[]\n",
            "[2]\n",
            "[2, 0]\n",
            "[2, 0, 1]\n",
            "[]\n",
            "[1]\n",
            "[]\n",
            "([3, 4, 2], 4)\n"
          ]
        }
      ]
    },
    {
      "cell_type": "markdown",
      "metadata": {
        "id": "-ocKMLv3eOiY"
      },
      "source": [
        "5.1.9 Periodicity Test Statistic"
      ]
    },
    {
      "cell_type": "code",
      "metadata": {
        "colab": {
          "base_uri": "https://localhost:8080/"
        },
        "id": "vVHZSBoRPHxw",
        "outputId": "98b530e4-f962-4aee-f40e-ec4fe61291cc"
      },
      "source": [
        "def periodicity_test_statistic(var):\n",
        "\n",
        "  \"\"\"\n",
        "  This function  determines the number of periodic structures in the input string s.\n",
        "  @input: s:string of integers.\n",
        "  @output: T:Test statistic of the input string s.\n",
        "  For eg: input = l = [1,0,1,0,1,0,1,1,1,0,0,1,1,0,0,1]\n",
        "  output from second function(bin_count): [5, 4, 5]\n",
        "  T = 0, p = 2, L = 3, for 5 in range(1)\n",
        "  var[0] == var[2] i.e , 5 == 5  ,\n",
        "  output =  T = 1\n",
        "\n",
        "  \"\"\"\n",
        "\n",
        "  T = 0\n",
        "  p = 2\n",
        "  L = len(var)\n",
        "  for i in range(L-p):\n",
        "    if var[i] == var[i+p]:\n",
        "      T+=1\n",
        "  return T\n",
        "\n",
        "bin = [1,0,1,1,1,0,1,0,0,1,0,1,1,1,1,0,1,0,1,0,1,0,1,0,1,0,1,1,1,0,1,0,0,1,0,1,0,1,0,1]\n",
        "var = bin_count(bin)\n",
        "print(var)\n",
        "teststatistic = periodicity_test_statistic(var)\n",
        "print(teststatistic)"
      ],
      "execution_count": null,
      "outputs": [
        {
          "output_type": "stream",
          "name": "stdout",
          "text": [
            "[5, 5, 4, 5, 4]\n",
            "2\n"
          ]
        }
      ]
    },
    {
      "cell_type": "code",
      "metadata": {
        "colab": {
          "base_uri": "https://localhost:8080/"
        },
        "id": "VJ4gwGlGzUfw",
        "outputId": "33c68763-4119-4471-b09d-6e252abbcee4"
      },
      "source": [
        "lst = [1,0,0,0,1,1,1,0,1,1,0,1,1,0,1,1,0,0,1,1,1,1,1,1,0,0,0,1,0,1,0,0,1,1,0,0,0,0,0,1,1,1,1,0,1,0,0,1,0,0,0,1,1,1,1,1,1,1,1,0,0,0,1,1,1,0,1,0,1,0,1,0,0,1,1,1,1,1,0,0,0,0,1,1,0,0,0,0,0,0,1,1,1,1,1,0,1,0,0,1]\n",
        "var = bin_count(lst)\n",
        "print(var)\n",
        "teststatistic = periodicity_test_statistic(var)\n",
        "print(teststatistic)"
      ],
      "execution_count": null,
      "outputs": [
        {
          "output_type": "stream",
          "name": "stdout",
          "text": [
            "[4, 6, 6, 2, 3, 5, 5, 5, 4, 5, 2, 5, 2]\n",
            "4\n"
          ]
        }
      ]
    },
    {
      "cell_type": "code",
      "metadata": {
        "colab": {
          "base_uri": "https://localhost:8080/"
        },
        "id": "9vQMxHqC8czD",
        "outputId": "69b6f786-3777-4b29-b7f1-1b6b1e6f2732"
      },
      "source": [
        "lst = [1,0,0,0,1,1,1,0,1,1,0,0,1,0,1,1,0,0,1,1,0,1,0,1,1,1,0,0,1,0,1,1,1]\n",
        "variable = bin_count(lst)\n",
        "print(variable)\n",
        "teststatistic = periodicity_test_statistic(variable)\n",
        "print(teststatistic)"
      ],
      "execution_count": null,
      "outputs": [
        {
          "output_type": "stream",
          "name": "stdout",
          "text": [
            "[4, 5, 4, 5, 1]\n",
            "2\n"
          ]
        }
      ]
    },
    {
      "cell_type": "code",
      "metadata": {
        "id": "iFx8EBN5PMvP",
        "colab": {
          "base_uri": "https://localhost:8080/"
        },
        "outputId": "4b409893-614c-4280-cad5-fec08da8872f"
      },
      "source": [
        "s = (2,1,2,1,0,1,0,1,1,2)\n",
        "teststatistic = periodicity_test_statistic(s)\n",
        "print(teststatistic)"
      ],
      "execution_count": null,
      "outputs": [
        {
          "output_type": "stream",
          "name": "stdout",
          "text": [
            "5\n"
          ]
        }
      ]
    },
    {
      "cell_type": "markdown",
      "metadata": {
        "id": "N6k5hAkKeRix"
      },
      "source": [
        "5.1.10 Covariance Test Statistic"
      ]
    },
    {
      "cell_type": "code",
      "metadata": {
        "colab": {
          "base_uri": "https://localhost:8080/"
        },
        "id": "0eekP9enYici",
        "outputId": "e10b6b39-1509-4e7a-af93-2e9b4ae5be7f"
      },
      "source": [
        "\n",
        "def covariance_test_statistic(num):\n",
        "\n",
        "  \"\"\"\n",
        "  This function measures the strength of lagged correlation of string s.\n",
        "  @input: s:string of integers.\n",
        "  @output: T:Test statistic of the input string s.\n",
        "  For eg: input = [1,1,0,0,1,0,1,0,1,1,1,0,0,1,1,0,0,0,1,1,0,1,0,1]\n",
        "  output from second function(bin_count): num = [4,5,4]\n",
        "  T = 0, p = 2, L = 3, for 4 in range(1)\n",
        "  T = 0 + (num[0]*num[2]) = 4*4 = 16 = output = test statistic\n",
        "\n",
        "  \"\"\"\n",
        "\n",
        "  T = 0\n",
        "  p = 2\n",
        "  L = len(num)\n",
        "  for i in range(L-p):\n",
        "    T = T + (num[i] * num[i+p])\n",
        "  return T\n",
        "\n",
        "z = [1,0,0,0,1,1,1,0,1,1,0,1,1,0,1,1,0,0,1,1]\n",
        "num = bin_count(z)\n",
        "print(num)\n",
        "teststatistic1 = covariance_test_statistic(num)\n",
        "print(teststatistic1)\n",
        "\n"
      ],
      "execution_count": null,
      "outputs": [
        {
          "output_type": "stream",
          "name": "stdout",
          "text": [
            "[4, 6, 2]\n",
            "8\n"
          ]
        }
      ]
    },
    {
      "cell_type": "code",
      "metadata": {
        "colab": {
          "base_uri": "https://localhost:8080/"
        },
        "id": "Wt71Ujzj1UwN",
        "outputId": "ee3de86f-fe7b-4302-c22c-8a44ab8981b2"
      },
      "source": [
        "l = [1,0,0,0,1,1,1,0,1,1,0,1,1,0,1,1,0,0,1,1,1,1,1,1,0,0,0,1,0,1,0,0,1,1,0,0,0,0,0,1,1,1,1,0,1,0,0,1,0,0,0,1,1,1,1,1,1,1,1,0,0,0,1,1,1,0,1,0,1,0,1,0,0,1,1,1,1,1,0,0,0,0,1,1,0,0,0,0,0,0,1,1,1,1,1,0,1,0,0,1]\n",
        "num = bin_count(l)\n",
        "print(num)\n",
        "teststatistic1 = covariance_test_statistic(num)\n",
        "print(teststatistic1)"
      ],
      "execution_count": null,
      "outputs": [
        {
          "output_type": "stream",
          "name": "stdout",
          "text": [
            "[4, 6, 6, 2, 3, 5, 5, 5, 4, 5, 2, 5, 2]\n",
            "186\n"
          ]
        }
      ]
    },
    {
      "cell_type": "code",
      "metadata": {
        "colab": {
          "base_uri": "https://localhost:8080/"
        },
        "id": "l3-IhFmWO1lM",
        "outputId": "074901a1-5187-4981-b6fb-e1e79a95072a"
      },
      "source": [
        "s = (5,2,6,10,12,3,1)\n",
        "teststatistic1 = covariance_test_statistic(s)\n",
        "print(teststatistic1)\n"
      ],
      "execution_count": null,
      "outputs": [
        {
          "output_type": "stream",
          "name": "stdout",
          "text": [
            "164\n"
          ]
        }
      ]
    },
    {
      "cell_type": "markdown",
      "metadata": {
        "id": "aJ0WDrnlefGr"
      },
      "source": [
        "Convert List To String"
      ]
    },
    {
      "cell_type": "code",
      "metadata": {
        "colab": {
          "base_uri": "https://localhost:8080/"
        },
        "id": "4zuRaISTV0jn",
        "outputId": "7b48ce45-19ee-4030-fe60-fdd67b1dec65"
      },
      "source": [
        "def convert_list_to_string(s):\n",
        "\n",
        "  \"\"\"\n",
        "\n",
        "  This function converts list of integers to string.\n",
        "  @input: s:list of integers\n",
        "  @output:string_s :converted string from list\n",
        "  For eg: input: p = [12, 78, 59, 190]\n",
        "  join the list and covert it to str using map function.\n",
        "  converted_string = 12 78 59 190\n",
        "\n",
        "  \"\"\"\n",
        "\n",
        "  converted_string = ' '.join(map(str, s))\n",
        "  return converted_string\n",
        "\n",
        "\n",
        "s = [14, 66, 98, 2, 4, 56]\n",
        "string_s = convert_list_to_string(s)\n",
        "print(string_s)"
      ],
      "execution_count": null,
      "outputs": [
        {
          "output_type": "stream",
          "name": "stdout",
          "text": [
            "14 66 98 2 4 56\n"
          ]
        }
      ]
    },
    {
      "cell_type": "code",
      "metadata": {
        "colab": {
          "base_uri": "https://localhost:8080/"
        },
        "id": "LtBQv35FjMbl",
        "outputId": "0d452e4a-7c58-4ef7-9ded-ffc944db4a72"
      },
      "source": [
        "p = [12, 78, 59, 190]\n",
        "string_s = convert_list_to_string(p)\n",
        "print(string_s)"
      ],
      "execution_count": null,
      "outputs": [
        {
          "output_type": "stream",
          "name": "stdout",
          "text": [
            "12 78 59 190\n"
          ]
        }
      ]
    },
    {
      "cell_type": "markdown",
      "metadata": {
        "id": "5CpWxaHMebmL"
      },
      "source": [
        "Convert String To Bytes"
      ]
    },
    {
      "cell_type": "code",
      "metadata": {
        "colab": {
          "base_uri": "https://localhost:8080/"
        },
        "id": "fOKgj-GLV54g",
        "outputId": "5057fe3d-2c5e-4826-9b0d-0cb68eaec9a6"
      },
      "source": [
        "def convert_string_to_bytes(string_s):\n",
        "\n",
        "  \"\"\"\n",
        "\n",
        "  This function converts string to bytes.\n",
        "  @input:string_s :string\n",
        "  @output: converted_bytes:string converted to bytes.\n",
        "  For eg: input = 12 78 59 190\n",
        "  encode the string using utf-8\n",
        "  output = converted_bytes = b'12 78 59 190'\n",
        "\n",
        "  \"\"\"\n",
        "  converted_bytes = string_s.encode('utf-8')\n",
        "  return converted_bytes\n",
        "\n",
        "string_s = \"14 66 98 2 4 56\"\n",
        "converted_bytes = convert_string_to_bytes(string_s)\n",
        "print(converted_bytes)"
      ],
      "execution_count": null,
      "outputs": [
        {
          "output_type": "stream",
          "name": "stdout",
          "text": [
            "b'14 66 98 2 4 56'\n"
          ]
        }
      ]
    },
    {
      "cell_type": "code",
      "metadata": {
        "colab": {
          "base_uri": "https://localhost:8080/"
        },
        "id": "mrW_873wkIeW",
        "outputId": "c79ea63f-3cf7-4b08-b97d-5e30f0a408f8"
      },
      "source": [
        "h = \"12 78 59 190\"\n",
        "converted_bytes = convert_string_to_bytes(h)\n",
        "print(converted_bytes)"
      ],
      "execution_count": null,
      "outputs": [
        {
          "output_type": "stream",
          "name": "stdout",
          "text": [
            "b'12 78 59 190'\n"
          ]
        }
      ]
    },
    {
      "cell_type": "markdown",
      "metadata": {
        "id": "t5WLF3BieY_U"
      },
      "source": [
        "Compression"
      ]
    },
    {
      "cell_type": "code",
      "metadata": {
        "colab": {
          "base_uri": "https://localhost:8080/"
        },
        "id": "jxyl2U1MV_zO",
        "outputId": "530f80b0-c0f7-4a46-d2c2-41519a4ae05f"
      },
      "source": [
        "import bz2\n",
        "c = bz2.compress(converted_bytes) #compresses the data by using bz2.compress(input_data)\n",
        "print(len(c)) #for finding length of compressed data\n",
        "\"\"\"\n",
        "For eg: input: k = b'12 78 59 190'\n",
        "output: len(k) = 47\n",
        "\"\"\""
      ],
      "execution_count": null,
      "outputs": [
        {
          "output_type": "stream",
          "name": "stdout",
          "text": [
            "48\n"
          ]
        }
      ]
    },
    {
      "cell_type": "markdown",
      "metadata": {
        "id": "IaYJ5wZ6eVck"
      },
      "source": [
        "5.1.11 Compression Test Statistic"
      ]
    },
    {
      "cell_type": "code",
      "metadata": {
        "colab": {
          "base_uri": "https://localhost:8080/"
        },
        "id": "ajMGan-FLWGW",
        "outputId": "86fbbc8f-cb8c-4a25-a698-c2bbf95bb323"
      },
      "source": [
        "import bz2\n",
        "def compression_test_statistic(s):\n",
        "\n",
        "  \"\"\"\n",
        "\n",
        "  This function calculates the length of that data subset after the samples are encoded into a character string and processed by a general-purpose compression algorithm.\n",
        "  @input: s:list of integers\n",
        "  @output: length_of_compressed_string:length of the compressed string.\n",
        "  For eg:\n",
        "  input = p = [12, 78, 59, 190]\n",
        "  output of 1st function(convert_list_to_string)= s = 12 78 59 190\n",
        "  output of 2nd function(convert_string_to_bytes)= y = b'12 78 59 190'\n",
        "  then bz2.compress(y) will give us the compressed data and its length can be calculated.\n",
        "  output of the function(compression_test_statistic)(length of compressed data) = 47\n",
        "\n",
        "  \"\"\"\n",
        "\n",
        "  string_s = convert_list_to_string(s)\n",
        "  converted_bytes = convert_string_to_bytes(string_s)\n",
        "  d = bz2.compress(converted_bytes)\n",
        "  return d\n",
        "\n",
        "s = [14, 66, 98, 2, 4, 56]\n",
        "d = compression_test_statistic(s)\n",
        "print(len(d))"
      ],
      "execution_count": null,
      "outputs": [
        {
          "output_type": "stream",
          "name": "stdout",
          "text": [
            "48\n"
          ]
        }
      ]
    },
    {
      "cell_type": "code",
      "metadata": {
        "colab": {
          "base_uri": "https://localhost:8080/"
        },
        "id": "W4dq8TgSoBwV",
        "outputId": "588cc1aa-3ba1-4305-eb61-d597545d7392"
      },
      "source": [
        "d = [234, 89, 456, 345, 77, 89]\n",
        "f = compression_test_statistic(d)\n",
        "print(len(f))"
      ],
      "execution_count": null,
      "outputs": [
        {
          "output_type": "stream",
          "name": "stdout",
          "text": [
            "50\n"
          ]
        }
      ]
    },
    {
      "cell_type": "markdown",
      "metadata": {
        "id": "00kkXLUBo3Sp"
      },
      "source": [
        "                                           **END**"
      ]
    }
  ]
}